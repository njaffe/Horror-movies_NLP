{
 "cells": [
  {
   "cell_type": "code",
   "execution_count": 336,
   "metadata": {},
   "outputs": [
    {
     "name": "stderr",
     "output_type": "stream",
     "text": [
      "[nltk_data] Downloading package punkt to /Users/noah/nltk_data...\n",
      "[nltk_data]   Package punkt is already up-to-date!\n",
      "[nltk_data] Downloading package averaged_perceptron_tagger to\n",
      "[nltk_data]     /Users/noah/nltk_data...\n",
      "[nltk_data]   Unzipping taggers/averaged_perceptron_tagger.zip.\n"
     ]
    },
    {
     "data": {
      "text/plain": [
       "True"
      ]
     },
     "execution_count": 336,
     "metadata": {},
     "output_type": "execute_result"
    }
   ],
   "source": [
    "import pickle\n",
    "import pandas as pd\n",
    "import numpy as np\n",
    "\n",
    "import spacy\n",
    "nlp = spacy.load('en_core_web_sm')\n",
    "import nltk\n",
    "from sklearn.feature_extraction.text import CountVectorizer, TfidfVectorizer\n",
    "from nltk.tokenize import TreebankWordTokenizer, word_tokenize\n",
    "from nltk.stem import PorterStemmer\n",
    "from nltk.stem import WordNetLemmatizer \n",
    "from nltk.corpus import stopwords\n",
    "stop_words = list(stopwords.words('english'))\n",
    "import re\n",
    "import string\n",
    "from collections import Counter\n",
    "\n",
    "from wordcloud import WordCloud, STOPWORDS, ImageColorGenerator\n",
    "import matplotlib.pyplot as plt\n",
    "\n",
    "from sklearn.decomposition import LatentDirichletAllocation\n",
    "\n",
    "# logging (set to INFO)\n",
    "import logging\n",
    "logging.basicConfig(format='%(asctime)s : %(levelname)s : %(message)s', level=logging.INFO)\n",
    "\n",
    "import warnings\n",
    "warnings.filterwarnings('ignore')\n",
    "\n",
    "from sklearn.cluster import KMeans\n",
    "from sklearn.decomposition import TruncatedSVD\n",
    "from sklearn.pipeline import Pipeline\n",
    "\n",
    "from sklearn.decomposition import PCA\n",
    "\n",
    "from sklearn.metrics import accuracy_score, confusion_matrix\n",
    "from sklearn.model_selection import train_test_split\n",
    "from sklearn import svm\n",
    "from sklearn.decomposition import NMF\n",
    "# nltk.download('punkt')\n",
    "nltk.download('averaged_perceptron_tagger')"
   ]
  },
  {
   "cell_type": "markdown",
   "metadata": {},
   "source": [
    "Using NLTK"
   ]
  },
  {
   "cell_type": "code",
   "execution_count": 338,
   "metadata": {},
   "outputs": [],
   "source": [
    "df = pd.read_pickle('movie_scripts_df')"
   ]
  },
  {
   "cell_type": "code",
   "execution_count": 339,
   "metadata": {},
   "outputs": [
    {
     "data": {
      "text/html": [
       "<div>\n",
       "<style scoped>\n",
       "    .dataframe tbody tr th:only-of-type {\n",
       "        vertical-align: middle;\n",
       "    }\n",
       "\n",
       "    .dataframe tbody tr th {\n",
       "        vertical-align: top;\n",
       "    }\n",
       "\n",
       "    .dataframe thead th {\n",
       "        text-align: right;\n",
       "    }\n",
       "</style>\n",
       "<table border=\"1\" class=\"dataframe\">\n",
       "  <thead>\n",
       "    <tr style=\"text-align: right;\">\n",
       "      <th></th>\n",
       "      <th>names</th>\n",
       "      <th>texts</th>\n",
       "    </tr>\n",
       "  </thead>\n",
       "  <tbody>\n",
       "    <tr>\n",
       "      <th>0</th>\n",
       "      <td>Hellraiser-Hellseeker</td>\n",
       "      <td>\\n\\n\\n                HELLRAISER: HELLSEEKER\\n...</td>\n",
       "    </tr>\n",
       "    <tr>\n",
       "      <th>1</th>\n",
       "      <td>Screa</td>\n",
       "      <td>\\n                                \\n          ...</td>\n",
       "    </tr>\n",
       "    <tr>\n",
       "      <th>2</th>\n",
       "      <td>Lord-of-Illusions</td>\n",
       "      <td>\\n\\n\\n\\n\"Lord of Illusions\" -- by Clive Barker...</td>\n",
       "    </tr>\n",
       "    <tr>\n",
       "      <th>3</th>\n",
       "      <td>Dawn-of-the-Dead</td>\n",
       "      <td>\\nDAWN OF\\nTHE DEAD\\n(The working draft 1977)\\...</td>\n",
       "    </tr>\n",
       "    <tr>\n",
       "      <th>4</th>\n",
       "      <td>Blade-II</td>\n",
       "      <td>\\n\"BLADE II\" -- by David Goyer\\n\\n</td>\n",
       "    </tr>\n",
       "  </tbody>\n",
       "</table>\n",
       "</div>"
      ],
      "text/plain": [
       "                   names                                              texts\n",
       "0  Hellraiser-Hellseeker  \\n\\n\\n                HELLRAISER: HELLSEEKER\\n...\n",
       "1                  Screa  \\n                                \\n          ...\n",
       "2      Lord-of-Illusions  \\n\\n\\n\\n\"Lord of Illusions\" -- by Clive Barker...\n",
       "3       Dawn-of-the-Dead  \\nDAWN OF\\nTHE DEAD\\n(The working draft 1977)\\...\n",
       "4               Blade-II                 \\n\"BLADE II\" -- by David Goyer\\n\\n"
      ]
     },
     "execution_count": 339,
     "metadata": {},
     "output_type": "execute_result"
    }
   ],
   "source": [
    "df.head()"
   ]
  },
  {
   "cell_type": "markdown",
   "metadata": {},
   "source": [
    "# Cleaning"
   ]
  },
  {
   "cell_type": "code",
   "execution_count": null,
   "metadata": {},
   "outputs": [],
   "source": [
    "print(df.texts.iloc[2])"
   ]
  },
  {
   "cell_type": "code",
   "execution_count": 14,
   "metadata": {},
   "outputs": [
    {
     "data": {
      "text/plain": [
       "list"
      ]
     },
     "execution_count": 14,
     "metadata": {},
     "output_type": "execute_result"
    }
   ],
   "source": [
    "type(stop_words) # need to add look, see, back"
   ]
  },
  {
   "cell_type": "code",
   "execution_count": 341,
   "metadata": {},
   "outputs": [],
   "source": [
    "for i in ['look', 'see', 'back']:\n",
    "    stop_words.append(i)"
   ]
  },
  {
   "cell_type": "code",
   "execution_count": null,
   "metadata": {},
   "outputs": [],
   "source": [
    "## trying only nouns"
   ]
  },
  {
   "cell_type": "markdown",
   "metadata": {},
   "source": [
    "## preprocessing function"
   ]
  },
  {
   "cell_type": "code",
   "execution_count": 37,
   "metadata": {},
   "outputs": [],
   "source": [
    "def preprocessing(text):\n",
    "    \n",
    "    # replace spaces, returns, punctuation\n",
    "    clean_text = re.sub('\\w[A-Z]+\\w', '', text) \n",
    "    clean_text = re.sub('\\w*\\d\\w*', ' ', clean_text)\n",
    "    clean_text = re.sub('[%s]' % re.escape(string.punctuation), ' ', clean_text)\n",
    "    clean_text = clean_text.lower().replace('   ', '').replace('\\n', ' ')\n",
    "    \n",
    "    # tokenize\n",
    "    tokens = [t for t in clean_text.split()]\n",
    "#     tokens = word_tokenize(clean_text)\n",
    "    \n",
    "    # lemmatize\n",
    "    lem_tokens = [WordNetLemmatizer().lemmatize(t) for t in tokens]\n",
    "    \n",
    "    # remove stopwords\n",
    "#     clean_tokens = [token for token in lem_tokens if token not in stopwords.words('english')]\n",
    "    clean_tokens = [token for token in lem_tokens if token not in stop_words]\n",
    "\n",
    "    return clean_tokens\n",
    "\n",
    "                        \n",
    "                        \n",
    "# text = df.texts[0]\n",
    "# print(preprocessing(text))                 "
   ]
  },
  {
   "cell_type": "code",
   "execution_count": null,
   "metadata": {},
   "outputs": [],
   "source": [
    "# words = [x.lower() for x in re.findall(r\"[\\w\\@\\#\\'\\&\\]\\*\\-\\/\\[\\=\\;]+\",raw_text_clean"
   ]
  },
  {
   "cell_type": "code",
   "execution_count": 354,
   "metadata": {},
   "outputs": [],
   "source": [
    "def preprocessing_only_nouns(text):\n",
    "    \n",
    "    # replace spaces, returns, punctuation\n",
    "    clean_text = re.sub('\\w[A-Z]+\\w', '', text) \n",
    "    clean_text = re.sub('\\w*\\d\\w*', ' ', clean_text)\n",
    "    clean_text = re.sub('[%s]' % re.escape(string.punctuation), ' ', clean_text)\n",
    "    clean_text = clean_text.lower().replace('   ', '').replace('\\n', ' ')\n",
    "    \n",
    "    # tokenize only nouns\n",
    "    clean_text_nouns = [word for (word, pos) in nltk.pos_tag(nltk.word_tokenize(clean_text)) if pos[0] == 'N']\n",
    "    \n",
    "    # lemmatize\n",
    "    lem_tokens = [WordNetLemmatizer().lemmatize(t) for t in clean_text_nouns]\n",
    "    \n",
    "    # remove stopwords\n",
    "    clean_tokens_nouns = [token for token in lem_tokens if token not in stop_words]\n",
    "\n",
    "    return clean_tokens_nouns"
   ]
  },
  {
   "cell_type": "markdown",
   "metadata": {},
   "source": [
    "## now apply cleaner functions to all texts in column"
   ]
  },
  {
   "cell_type": "code",
   "execution_count": 356,
   "metadata": {},
   "outputs": [
    {
     "data": {
      "text/html": [
       "<div>\n",
       "<style scoped>\n",
       "    .dataframe tbody tr th:only-of-type {\n",
       "        vertical-align: middle;\n",
       "    }\n",
       "\n",
       "    .dataframe tbody tr th {\n",
       "        vertical-align: top;\n",
       "    }\n",
       "\n",
       "    .dataframe thead th {\n",
       "        text-align: right;\n",
       "    }\n",
       "</style>\n",
       "<table border=\"1\" class=\"dataframe\">\n",
       "  <thead>\n",
       "    <tr style=\"text-align: right;\">\n",
       "      <th></th>\n",
       "      <th>names</th>\n",
       "      <th>texts</th>\n",
       "      <th>tokens</th>\n",
       "      <th>tokens_nouns</th>\n",
       "    </tr>\n",
       "  </thead>\n",
       "  <tbody>\n",
       "    <tr>\n",
       "      <th>0</th>\n",
       "      <td>Hellraiser-Hellseeker</td>\n",
       "      <td>\\n\\n\\n                HELLRAISER: HELLSEEKER\\n...</td>\n",
       "      <td>[written, carl, dupre, passenger, window, tree...</td>\n",
       "      <td>[carl, dupre, passenger, window, tree, twenty,...</td>\n",
       "    </tr>\n",
       "    <tr>\n",
       "      <th>1</th>\n",
       "      <td>Screa</td>\n",
       "      <td>\\n                                \\n          ...</td>\n",
       "      <td>[kevin, williamson, rewrite, july, hand, reach...</td>\n",
       "      <td>[kevin, july, hand, receiver, face, girl, sixt...</td>\n",
       "    </tr>\n",
       "    <tr>\n",
       "      <th>2</th>\n",
       "      <td>Lord-of-Illusions</td>\n",
       "      <td>\\n\\n\\n\\n\"Lord of Illusions\" -- by Clive Barker...</td>\n",
       "      <td>[lord, illusion, clive, barker, credit, run, f...</td>\n",
       "      <td>[lord, illusion, barker, credit, sequence, col...</td>\n",
       "    </tr>\n",
       "    <tr>\n",
       "      <th>3</th>\n",
       "      <td>Dawn-of-the-Dead</td>\n",
       "      <td>\\nDAWN OF\\nTHE DEAD\\n(The working draft 1977)\\...</td>\n",
       "      <td>[working, draft, george, romero, face, young, ...</td>\n",
       "      <td>[draft, george, romero, face, woman, credit, w...</td>\n",
       "    </tr>\n",
       "    <tr>\n",
       "      <th>4</th>\n",
       "      <td>Blade-II</td>\n",
       "      <td>\\n\"BLADE II\" -- by David Goyer\\n\\n</td>\n",
       "      <td>[ii, david, goyer]</td>\n",
       "      <td>[ii, david, goyer]</td>\n",
       "    </tr>\n",
       "  </tbody>\n",
       "</table>\n",
       "</div>"
      ],
      "text/plain": [
       "                   names                                              texts  \\\n",
       "0  Hellraiser-Hellseeker  \\n\\n\\n                HELLRAISER: HELLSEEKER\\n...   \n",
       "1                  Screa  \\n                                \\n          ...   \n",
       "2      Lord-of-Illusions  \\n\\n\\n\\n\"Lord of Illusions\" -- by Clive Barker...   \n",
       "3       Dawn-of-the-Dead  \\nDAWN OF\\nTHE DEAD\\n(The working draft 1977)\\...   \n",
       "4               Blade-II                 \\n\"BLADE II\" -- by David Goyer\\n\\n   \n",
       "\n",
       "                                              tokens  \\\n",
       "0  [written, carl, dupre, passenger, window, tree...   \n",
       "1  [kevin, williamson, rewrite, july, hand, reach...   \n",
       "2  [lord, illusion, clive, barker, credit, run, f...   \n",
       "3  [working, draft, george, romero, face, young, ...   \n",
       "4                                 [ii, david, goyer]   \n",
       "\n",
       "                                        tokens_nouns  \n",
       "0  [carl, dupre, passenger, window, tree, twenty,...  \n",
       "1  [kevin, july, hand, receiver, face, girl, sixt...  \n",
       "2  [lord, illusion, barker, credit, sequence, col...  \n",
       "3  [draft, george, romero, face, woman, credit, w...  \n",
       "4                                 [ii, david, goyer]  "
      ]
     },
     "execution_count": 356,
     "metadata": {},
     "output_type": "execute_result"
    }
   ],
   "source": [
    "df['tokens'] = df['texts'].apply(lambda x: preprocessing(x))\n",
    "\n",
    "df['tokens_nouns'] = df['texts'].apply(lambda x: preprocessing_only_nouns(x))\n",
    "\n",
    "df.head()"
   ]
  },
  {
   "cell_type": "code",
   "execution_count": 392,
   "metadata": {},
   "outputs": [
    {
     "data": {
      "text/plain": [
       "['mulholland', 'drive', 'screenplay', 'l', 'h', 'l', 'r', 'e', 'l', 'hl', 'r', 'e', 'darkness', 'sound', 'freeway', 'traffic', 'sound', 'carits', 'headlight', 'oleander', 'bush', 'limb', 'eucalyptus', 'tree', 'headlight', 'street', 'sign', 'word', 'sign', 'car', 'move', 'sign', 'word', 'fall', 'darkness', 'caran', 'cadillac', 'limousine', 'way', 'mulholland', 'drive', 'darkness', 'hollywood', 'hill', 'one', 'road', 'car', 'men', 'suit', 'seat', 'dark', 'woman', 'sits', 'door', 'darkness', 'something', 'car', 'side', 'road', 'stop', 'car', 'stopshalf', 'half', 'road', 'blind', 'men', 'woman', 'car', 'carsa', 'model', 'sedan', 'blind', 'curve', 'view', 'cadillac', 'car', 'teenager', 'girl', 'sunroof', 'sedan', 'hair', 'car', 'speed', 'lane', 'mulholland', 'drive', 'driver', 'seat', 'pistol', 'silencer', 'woman', 'man', 'car', 'woman', 'seat', 'door', 'handle', 'man', 'car', 'woman']"
      ]
     },
     "execution_count": 392,
     "metadata": {},
     "output_type": "execute_result"
    }
   ],
   "source": [
    "df.tokens_nouns.iloc[2][:100]"
   ]
  },
  {
   "cell_type": "markdown",
   "metadata": {},
   "source": [
    "## Remove scripts that are too short"
   ]
  },
  {
   "cell_type": "code",
   "execution_count": 358,
   "metadata": {},
   "outputs": [],
   "source": [
    "for i,x in enumerate(df.tokens):\n",
    "#     print(i,len(x))\n",
    "    if len(x) < 8000:\n",
    "        df.drop(index=i,inplace=True)"
   ]
  },
  {
   "cell_type": "code",
   "execution_count": null,
   "metadata": {},
   "outputs": [],
   "source": [
    "for i,x in enumerate(df.tokens_nouns):\n",
    "#     print(i,len(x))\n",
    "    if len(x) < 8000:\n",
    "        df.drop(index=i,inplace=True)"
   ]
  },
  {
   "cell_type": "code",
   "execution_count": 361,
   "metadata": {},
   "outputs": [
    {
     "data": {
      "text/plain": [
       "(125, 4)"
      ]
     },
     "execution_count": 361,
     "metadata": {},
     "output_type": "execute_result"
    }
   ],
   "source": [
    "df.shape"
   ]
  },
  {
   "cell_type": "markdown",
   "metadata": {},
   "source": [
    "## Making column of strings for vectorization"
   ]
  },
  {
   "cell_type": "code",
   "execution_count": 363,
   "metadata": {},
   "outputs": [],
   "source": [
    "df['token_strings'] = df.tokens.apply(lambda x: ' '.join(x))\n",
    "\n",
    "df['token_nouns_strings'] = df.tokens_nouns.apply(lambda x: ' '.join(x))"
   ]
  },
  {
   "cell_type": "code",
   "execution_count": 364,
   "metadata": {},
   "outputs": [
    {
     "data": {
      "text/html": [
       "<div>\n",
       "<style scoped>\n",
       "    .dataframe tbody tr th:only-of-type {\n",
       "        vertical-align: middle;\n",
       "    }\n",
       "\n",
       "    .dataframe tbody tr th {\n",
       "        vertical-align: top;\n",
       "    }\n",
       "\n",
       "    .dataframe thead th {\n",
       "        text-align: right;\n",
       "    }\n",
       "</style>\n",
       "<table border=\"1\" class=\"dataframe\">\n",
       "  <thead>\n",
       "    <tr style=\"text-align: right;\">\n",
       "      <th></th>\n",
       "      <th>names</th>\n",
       "      <th>texts</th>\n",
       "      <th>tokens</th>\n",
       "      <th>tokens_nouns</th>\n",
       "      <th>token_strings</th>\n",
       "      <th>token_nouns_strings</th>\n",
       "    </tr>\n",
       "  </thead>\n",
       "  <tbody>\n",
       "    <tr>\n",
       "      <th>3</th>\n",
       "      <td>Dawn-of-the-Dead</td>\n",
       "      <td>\\nDAWN OF\\nTHE DEAD\\n(The working draft 1977)\\...</td>\n",
       "      <td>[working, draft, george, romero, face, young, ...</td>\n",
       "      <td>[draft, george, romero, face, woman, credit, w...</td>\n",
       "      <td>working draft george romero face young woman a...</td>\n",
       "      <td>draft george romero face woman credit woman fa...</td>\n",
       "    </tr>\n",
       "    <tr>\n",
       "      <th>5</th>\n",
       "      <td>Gremlins-2</td>\n",
       "      <td>\\n \\n          \\n                             ...</td>\n",
       "      <td>[written, charlie, haas, revised, crowded, chi...</td>\n",
       "      <td>[charlie, haas, street, rand, peltzer, mogwai,...</td>\n",
       "      <td>written charlie haas revised crowded chinatown...</td>\n",
       "      <td>charlie haas street rand peltzer mogwai stair ...</td>\n",
       "    </tr>\n",
       "    <tr>\n",
       "      <th>6</th>\n",
       "      <td>Mulholland-Drive</td>\n",
       "      <td>\\n\\n\\n\\nMulholland Drive Screenplay\\n\\n\\n\\n\\t\\...</td>\n",
       "      <td>[mulholland, drive, screenplay, u, l, h, l, l,...</td>\n",
       "      <td>[mulholland, drive, screenplay, l, h, l, r, e,...</td>\n",
       "      <td>mulholland drive screenplay u l h l l n r v e ...</td>\n",
       "      <td>mulholland drive screenplay l h l r e l hl r e...</td>\n",
       "    </tr>\n",
       "    <tr>\n",
       "      <th>7</th>\n",
       "      <td>What-Lies-Benea</td>\n",
       "      <td>\\n\\n\\n                      WHAT LIES BENEATH\\...</td>\n",
       "      <td>[clark, gregg, june, moving, murky, hazedark, ...</td>\n",
       "      <td>[clark, gregg, june, hazedark, blue, green, sh...</td>\n",
       "      <td>clark gregg june moving murky hazedark blue gr...</td>\n",
       "      <td>clark gregg june hazedark blue green shaft pur...</td>\n",
       "    </tr>\n",
       "    <tr>\n",
       "      <th>8</th>\n",
       "      <td>House-of-1000-Corpses</td>\n",
       "      <td>\\n                                 \"HOUSE OF 1...</td>\n",
       "      <td>[written, r, w, zombie, revised, adancing, aro...</td>\n",
       "      <td>[r, w, zombie, movie, monster, frame, barrel, ...</td>\n",
       "      <td>written r w zombie revised adancing around gra...</td>\n",
       "      <td>r w zombie movie monster frame barrel shotgun ...</td>\n",
       "    </tr>\n",
       "  </tbody>\n",
       "</table>\n",
       "</div>"
      ],
      "text/plain": [
       "                   names                                              texts  \\\n",
       "3       Dawn-of-the-Dead  \\nDAWN OF\\nTHE DEAD\\n(The working draft 1977)\\...   \n",
       "5             Gremlins-2  \\n \\n          \\n                             ...   \n",
       "6       Mulholland-Drive  \\n\\n\\n\\nMulholland Drive Screenplay\\n\\n\\n\\n\\t\\...   \n",
       "7        What-Lies-Benea  \\n\\n\\n                      WHAT LIES BENEATH\\...   \n",
       "8  House-of-1000-Corpses  \\n                                 \"HOUSE OF 1...   \n",
       "\n",
       "                                              tokens  \\\n",
       "3  [working, draft, george, romero, face, young, ...   \n",
       "5  [written, charlie, haas, revised, crowded, chi...   \n",
       "6  [mulholland, drive, screenplay, u, l, h, l, l,...   \n",
       "7  [clark, gregg, june, moving, murky, hazedark, ...   \n",
       "8  [written, r, w, zombie, revised, adancing, aro...   \n",
       "\n",
       "                                        tokens_nouns  \\\n",
       "3  [draft, george, romero, face, woman, credit, w...   \n",
       "5  [charlie, haas, street, rand, peltzer, mogwai,...   \n",
       "6  [mulholland, drive, screenplay, l, h, l, r, e,...   \n",
       "7  [clark, gregg, june, hazedark, blue, green, sh...   \n",
       "8  [r, w, zombie, movie, monster, frame, barrel, ...   \n",
       "\n",
       "                                       token_strings  \\\n",
       "3  working draft george romero face young woman a...   \n",
       "5  written charlie haas revised crowded chinatown...   \n",
       "6  mulholland drive screenplay u l h l l n r v e ...   \n",
       "7  clark gregg june moving murky hazedark blue gr...   \n",
       "8  written r w zombie revised adancing around gra...   \n",
       "\n",
       "                                 token_nouns_strings  \n",
       "3  draft george romero face woman credit woman fa...  \n",
       "5  charlie haas street rand peltzer mogwai stair ...  \n",
       "6  mulholland drive screenplay l h l r e l hl r e...  \n",
       "7  clark gregg june hazedark blue green shaft pur...  \n",
       "8  r w zombie movie monster frame barrel shotgun ...  "
      ]
     },
     "execution_count": 364,
     "metadata": {},
     "output_type": "execute_result"
    }
   ],
   "source": [
    "df.head()"
   ]
  },
  {
   "cell_type": "markdown",
   "metadata": {},
   "source": [
    "Fixing script names"
   ]
  },
  {
   "cell_type": "code",
   "execution_count": 434,
   "metadata": {},
   "outputs": [
    {
     "data": {
      "text/plain": [
       "150         Alien-3\n",
       "152      Thing,-The\n",
       "153    Suspect-Zero\n",
       "154    Lost-Highway\n",
       "155          Misery\n",
       "Name: names, dtype: object"
      ]
     },
     "execution_count": 434,
     "metadata": {},
     "output_type": "execute_result"
    }
   ],
   "source": [
    "df.names[120:]"
   ]
  },
  {
   "cell_type": "code",
   "execution_count": 433,
   "metadata": {},
   "outputs": [],
   "source": [
    "# df.names = df.names.replace('Silver-Bulle', 'Silver-Bullet')"
   ]
  },
  {
   "cell_type": "markdown",
   "metadata": {},
   "source": [
    "## Pickling for posterity"
   ]
  },
  {
   "cell_type": "code",
   "execution_count": 435,
   "metadata": {},
   "outputs": [],
   "source": [
    "# Pickling\n",
    "\n",
    "# filename = 'data_for_vectorization'\n",
    "# outfile = open(filename,'wb')\n",
    "# pickle.dump(df,outfile)\n",
    "# outfile.close()"
   ]
  },
  {
   "cell_type": "markdown",
   "metadata": {},
   "source": [
    "Open our data here if running notebook fresh"
   ]
  },
  {
   "cell_type": "code",
   "execution_count": 20,
   "metadata": {},
   "outputs": [],
   "source": [
    "# df = pd.read_pickle('data_for_vectorization')"
   ]
  },
  {
   "cell_type": "markdown",
   "metadata": {},
   "source": [
    "## Word frequencies"
   ]
  },
  {
   "cell_type": "code",
   "execution_count": null,
   "metadata": {},
   "outputs": [],
   "source": [
    "freq = nltk.FreqDist(df['tokens'][0])\n",
    "\n",
    "for key,val in freq.items():\n",
    "\n",
    "    print (str(key) + ':' + str(val))"
   ]
  },
  {
   "cell_type": "code",
   "execution_count": null,
   "metadata": {},
   "outputs": [],
   "source": []
  },
  {
   "cell_type": "code",
   "execution_count": 45,
   "metadata": {},
   "outputs": [],
   "source": [
    "def word_freq(text, num_words=200, freq_threshold=1000): # text is column of df\n",
    "    \"\"\" \n",
    "    Returns most common words across all entries in column.\n",
    "    -------------------------------------------------------\n",
    "    Inputs: \n",
    "    num_words amount of returned words.\n",
    "    freq_threshold: cutoff for top appearing words\n",
    "    \n",
    "    \"\"\"\n",
    "    all_words_list = []\n",
    "    for movie_script in text:\n",
    "        for word in movie_script:\n",
    "            all_words_list.append(word)\n",
    "    \n",
    "    top_words = Counter(all_words_list).most_common(num_words)\n",
    "    \n",
    "    results_list = []\n",
    "    for pair in top_words:\n",
    "        if pair[1] > freq_threshold:\n",
    "            results_list.append(pair)\n",
    "    return results_list, all_words_list"
   ]
  },
  {
   "cell_type": "code",
   "execution_count": 46,
   "metadata": {},
   "outputs": [],
   "source": [
    "word_freqs, all_words_list = word_freq(df.tokens)\n"
   ]
  },
  {
   "cell_type": "code",
   "execution_count": 47,
   "metadata": {},
   "outputs": [],
   "source": [
    "all_words_string = ' '.join(all_words_list)"
   ]
  },
  {
   "cell_type": "code",
   "execution_count": 48,
   "metadata": {},
   "outputs": [
    {
     "data": {
      "image/png": "[encoded data removed]",
      "text/plain": [
       "<Figure size 432x288 with 1 Axes>"
      ]
     },
     "metadata": {
      "needs_background": "light"
     },
     "output_type": "display_data"
    }
   ],
   "source": [
    "# Create and generate a word cloud image:\n",
    "wordcloud = WordCloud().generate(all_words_string)\n",
    "\n",
    "# Display the generated image:\n",
    "plt.imshow(wordcloud, interpolation='bilinear')\n",
    "plt.axis(\"off\")\n",
    "plt.show()"
   ]
  },
  {
   "cell_type": "markdown",
   "metadata": {},
   "source": [
    "# Vectorizing"
   ]
  },
  {
   "cell_type": "markdown",
   "metadata": {},
   "source": [
    "## CV"
   ]
  },
  {
   "cell_type": "code",
   "execution_count": null,
   "metadata": {},
   "outputs": [],
   "source": [
    "### example\n",
    "\n",
    "cv1 = CountVectorizer(stop_words='english')\n",
    "text_cv = cv1.fit_transform(X_train)\n",
    "\n",
    "\n",
    "pd.DataFrame(X_train_cv1.toarray(), columns=cv1.get_feature_names()).head()"
   ]
  },
  {
   "cell_type": "code",
   "execution_count": 382,
   "metadata": {},
   "outputs": [],
   "source": [
    "cv = CountVectorizer(stop_words='english', max_features = 10000)\n",
    "text_cv = cv.fit_transform(df.token_strings)\n",
    "cv_df = pd.DataFrame(text_cv.toarray(), columns=cv.get_feature_names()) # returns counts\n",
    "\n",
    "nouns_cv_array = cv.fit_transform(df.token_strings)\n",
    "cv_nouns_df = pd.DataFrame(nouns_cv_array.toarray(), columns=cv.get_feature_names())"
   ]
  },
  {
   "cell_type": "code",
   "execution_count": 367,
   "metadata": {},
   "outputs": [
    {
     "data": {
      "text/html": [
       "<div>\n",
       "<style scoped>\n",
       "    .dataframe tbody tr th:only-of-type {\n",
       "        vertical-align: middle;\n",
       "    }\n",
       "\n",
       "    .dataframe tbody tr th {\n",
       "        vertical-align: top;\n",
       "    }\n",
       "\n",
       "    .dataframe thead th {\n",
       "        text-align: right;\n",
       "    }\n",
       "</style>\n",
       "<table border=\"1\" class=\"dataframe\">\n",
       "  <thead>\n",
       "    <tr style=\"text-align: right;\">\n",
       "      <th></th>\n",
       "      <th>aa</th>\n",
       "      <th>aand</th>\n",
       "      <th>aappears</th>\n",
       "      <th>aaron</th>\n",
       "      <th>aat</th>\n",
       "      <th>aback</th>\n",
       "      <th>abandon</th>\n",
       "      <th>abandoned</th>\n",
       "      <th>abbey</th>\n",
       "      <th>abbot</th>\n",
       "      <th>...</th>\n",
       "      <th>zero</th>\n",
       "      <th>zip</th>\n",
       "      <th>zipper</th>\n",
       "      <th>zippo</th>\n",
       "      <th>zoe</th>\n",
       "      <th>zombie</th>\n",
       "      <th>zone</th>\n",
       "      <th>zoo</th>\n",
       "      <th>zoom</th>\n",
       "      <th>zowie</th>\n",
       "    </tr>\n",
       "  </thead>\n",
       "  <tbody>\n",
       "    <tr>\n",
       "      <th>0</th>\n",
       "      <td>2</td>\n",
       "      <td>0</td>\n",
       "      <td>0</td>\n",
       "      <td>0</td>\n",
       "      <td>0</td>\n",
       "      <td>0</td>\n",
       "      <td>2</td>\n",
       "      <td>2</td>\n",
       "      <td>0</td>\n",
       "      <td>0</td>\n",
       "      <td>...</td>\n",
       "      <td>2</td>\n",
       "      <td>1</td>\n",
       "      <td>0</td>\n",
       "      <td>0</td>\n",
       "      <td>0</td>\n",
       "      <td>236</td>\n",
       "      <td>1</td>\n",
       "      <td>0</td>\n",
       "      <td>5</td>\n",
       "      <td>0</td>\n",
       "    </tr>\n",
       "    <tr>\n",
       "      <th>1</th>\n",
       "      <td>0</td>\n",
       "      <td>2</td>\n",
       "      <td>0</td>\n",
       "      <td>0</td>\n",
       "      <td>0</td>\n",
       "      <td>0</td>\n",
       "      <td>0</td>\n",
       "      <td>1</td>\n",
       "      <td>0</td>\n",
       "      <td>0</td>\n",
       "      <td>...</td>\n",
       "      <td>0</td>\n",
       "      <td>1</td>\n",
       "      <td>1</td>\n",
       "      <td>0</td>\n",
       "      <td>0</td>\n",
       "      <td>0</td>\n",
       "      <td>2</td>\n",
       "      <td>0</td>\n",
       "      <td>0</td>\n",
       "      <td>0</td>\n",
       "    </tr>\n",
       "    <tr>\n",
       "      <th>2</th>\n",
       "      <td>0</td>\n",
       "      <td>0</td>\n",
       "      <td>0</td>\n",
       "      <td>0</td>\n",
       "      <td>0</td>\n",
       "      <td>0</td>\n",
       "      <td>0</td>\n",
       "      <td>0</td>\n",
       "      <td>0</td>\n",
       "      <td>0</td>\n",
       "      <td>...</td>\n",
       "      <td>0</td>\n",
       "      <td>0</td>\n",
       "      <td>1</td>\n",
       "      <td>0</td>\n",
       "      <td>0</td>\n",
       "      <td>0</td>\n",
       "      <td>0</td>\n",
       "      <td>0</td>\n",
       "      <td>0</td>\n",
       "      <td>0</td>\n",
       "    </tr>\n",
       "    <tr>\n",
       "      <th>3</th>\n",
       "      <td>2</td>\n",
       "      <td>2</td>\n",
       "      <td>0</td>\n",
       "      <td>0</td>\n",
       "      <td>0</td>\n",
       "      <td>1</td>\n",
       "      <td>0</td>\n",
       "      <td>0</td>\n",
       "      <td>0</td>\n",
       "      <td>0</td>\n",
       "      <td>...</td>\n",
       "      <td>0</td>\n",
       "      <td>0</td>\n",
       "      <td>0</td>\n",
       "      <td>0</td>\n",
       "      <td>0</td>\n",
       "      <td>0</td>\n",
       "      <td>0</td>\n",
       "      <td>0</td>\n",
       "      <td>0</td>\n",
       "      <td>0</td>\n",
       "    </tr>\n",
       "    <tr>\n",
       "      <th>4</th>\n",
       "      <td>0</td>\n",
       "      <td>0</td>\n",
       "      <td>0</td>\n",
       "      <td>0</td>\n",
       "      <td>0</td>\n",
       "      <td>0</td>\n",
       "      <td>0</td>\n",
       "      <td>1</td>\n",
       "      <td>0</td>\n",
       "      <td>0</td>\n",
       "      <td>...</td>\n",
       "      <td>1</td>\n",
       "      <td>0</td>\n",
       "      <td>0</td>\n",
       "      <td>0</td>\n",
       "      <td>0</td>\n",
       "      <td>2</td>\n",
       "      <td>0</td>\n",
       "      <td>0</td>\n",
       "      <td>0</td>\n",
       "      <td>0</td>\n",
       "    </tr>\n",
       "  </tbody>\n",
       "</table>\n",
       "<p>5 rows × 10000 columns</p>\n",
       "</div>"
      ],
      "text/plain": [
       "   aa  aand  aappears  aaron  aat  aback  abandon  abandoned  abbey  abbot  \\\n",
       "0   2     0         0      0    0      0        2          2      0      0   \n",
       "1   0     2         0      0    0      0        0          1      0      0   \n",
       "2   0     0         0      0    0      0        0          0      0      0   \n",
       "3   2     2         0      0    0      1        0          0      0      0   \n",
       "4   0     0         0      0    0      0        0          1      0      0   \n",
       "\n",
       "   ...  zero  zip  zipper  zippo  zoe  zombie  zone  zoo  zoom  zowie  \n",
       "0  ...     2    1       0      0    0     236     1    0     5      0  \n",
       "1  ...     0    1       1      0    0       0     2    0     0      0  \n",
       "2  ...     0    0       1      0    0       0     0    0     0      0  \n",
       "3  ...     0    0       0      0    0       0     0    0     0      0  \n",
       "4  ...     1    0       0      0    0       2     0    0     0      0  \n",
       "\n",
       "[5 rows x 10000 columns]"
      ]
     },
     "execution_count": 367,
     "metadata": {},
     "output_type": "execute_result"
    }
   ],
   "source": [
    "cv_df.head()"
   ]
  },
  {
   "cell_type": "markdown",
   "metadata": {},
   "source": [
    "### Preparing CV for LDA viz outside jupyter lab"
   ]
  },
  {
   "cell_type": "code",
   "execution_count": 368,
   "metadata": {},
   "outputs": [],
   "source": [
    "filename = 'cv' # 3rd arg\n",
    "outfile = open(filename,'wb')\n",
    "pickle.dump(cv,outfile)\n",
    "outfile.close()"
   ]
  },
  {
   "cell_type": "code",
   "execution_count": 369,
   "metadata": {},
   "outputs": [],
   "source": [
    "filename = 'text_cv' # 2nd arg\n",
    "outfile = open(filename,'wb')\n",
    "pickle.dump(text_cv,outfile)\n",
    "outfile.close()"
   ]
  },
  {
   "cell_type": "code",
   "execution_count": 370,
   "metadata": {},
   "outputs": [
    {
     "data": {
      "text/plain": [
       "LatentDirichletAllocation(n_components=20, random_state=0)"
      ]
     },
     "execution_count": 370,
     "metadata": {},
     "output_type": "execute_result"
    }
   ],
   "source": [
    "lda_cv = LatentDirichletAllocation(n_components=20, random_state=0)\n",
    "lda_cv.fit(text_cv)"
   ]
  },
  {
   "cell_type": "code",
   "execution_count": 371,
   "metadata": {},
   "outputs": [],
   "source": [
    "filename = 'lda_cv' # 1st arg\n",
    "outfile = open(filename,'wb')\n",
    "pickle.dump(lda_cv,outfile)\n",
    "outfile.close()"
   ]
  },
  {
   "cell_type": "code",
   "execution_count": 372,
   "metadata": {},
   "outputs": [],
   "source": [
    "filename = 'cv_df'\n",
    "outfile = open(filename,'wb')\n",
    "pickle.dump(cv_df,outfile)\n",
    "outfile.close()"
   ]
  },
  {
   "cell_type": "code",
   "execution_count": 383,
   "metadata": {},
   "outputs": [],
   "source": [
    "# pickling nouns\n",
    "\n",
    "filename = 'nouns_cv_array'\n",
    "outfile = open(filename,'wb')\n",
    "pickle.dump(nouns_cv_array,outfile)\n",
    "outfile.close()\n",
    "\n",
    "filename = 'cv_nouns_df'\n",
    "outfile = open(filename,'wb')\n",
    "pickle.dump(cv_nouns_df,outfile)\n",
    "outfile.close()\n"
   ]
  },
  {
   "cell_type": "markdown",
   "metadata": {},
   "source": [
    "## TF IDF"
   ]
  },
  {
   "cell_type": "code",
   "execution_count": 393,
   "metadata": {},
   "outputs": [],
   "source": [
    "text = df.token_strings\n",
    "nouns = df.token_nouns_strings\n",
    "\n",
    "tfidf_nouns = TfidfVectorizer(ngram_range=(1,2), binary=True, stop_words='english', max_features = 100000) # could limit max\n",
    "tfidf1 = TfidfVectorizer(stop_words='english')\n",
    "tfidf2 = TfidfVectorizer(ngram_range=(1,2), binary=True, stop_words='english', max_features = 100000) # could limit max\n",
    "\n",
    "\n",
    "# arg 2 for pyLDAvis\n",
    "tfidf_nouns_array = tfidf_nouns.fit_transform(nouns)\n",
    "text_tfidf1 = tfidf1.fit_transform(text)\n",
    "text_tfidf2 = tfidf2.fit_transform(text)\n",
    "\n",
    "\n",
    "tfidf_nouns_df = pd.DataFrame(tfidf_nouns_array.toarray(), columns=tfidf2.get_feature_names())\n",
    "tfidf1_df = pd.DataFrame(text_tfidf1.toarray(), columns=tfidf1.get_feature_names())\n",
    "tfidf2_df = pd.DataFrame(text_tfidf2.toarray(), columns=tfidf2.get_feature_names())\n",
    "\n"
   ]
  },
  {
   "cell_type": "code",
   "execution_count": 379,
   "metadata": {},
   "outputs": [
    {
     "data": {
      "text/html": [
       "<div>\n",
       "<style scoped>\n",
       "    .dataframe tbody tr th:only-of-type {\n",
       "        vertical-align: middle;\n",
       "    }\n",
       "\n",
       "    .dataframe tbody tr th {\n",
       "        vertical-align: top;\n",
       "    }\n",
       "\n",
       "    .dataframe thead th {\n",
       "        text-align: right;\n",
       "    }\n",
       "</style>\n",
       "<table border=\"1\" class=\"dataframe\">\n",
       "  <thead>\n",
       "    <tr style=\"text-align: right;\">\n",
       "      <th></th>\n",
       "      <th>aa</th>\n",
       "      <th>aaaah</th>\n",
       "      <th>aah</th>\n",
       "      <th>aand</th>\n",
       "      <th>aappears</th>\n",
       "      <th>aapproaches</th>\n",
       "      <th>aaron</th>\n",
       "      <th>aaron nod</th>\n",
       "      <th>aat</th>\n",
       "      <th>ab</th>\n",
       "      <th>...</th>\n",
       "      <th>zombie wheel</th>\n",
       "      <th>zombie window</th>\n",
       "      <th>zone</th>\n",
       "      <th>zoo</th>\n",
       "      <th>zoo dr</th>\n",
       "      <th>zoo thing</th>\n",
       "      <th>zoom</th>\n",
       "      <th>zoom face</th>\n",
       "      <th>½g</th>\n",
       "      <th>½ï</th>\n",
       "    </tr>\n",
       "  </thead>\n",
       "  <tbody>\n",
       "    <tr>\n",
       "      <th>0</th>\n",
       "      <td>0.009769</td>\n",
       "      <td>0.0</td>\n",
       "      <td>0.000000</td>\n",
       "      <td>0.000000</td>\n",
       "      <td>0.0</td>\n",
       "      <td>0.0</td>\n",
       "      <td>0.0</td>\n",
       "      <td>0.0</td>\n",
       "      <td>0.0</td>\n",
       "      <td>0.0</td>\n",
       "      <td>...</td>\n",
       "      <td>0.018483</td>\n",
       "      <td>0.018483</td>\n",
       "      <td>0.010537</td>\n",
       "      <td>0.0</td>\n",
       "      <td>0.0</td>\n",
       "      <td>0.0</td>\n",
       "      <td>0.011082</td>\n",
       "      <td>0.0</td>\n",
       "      <td>0.000000</td>\n",
       "      <td>0.000000</td>\n",
       "    </tr>\n",
       "    <tr>\n",
       "      <th>1</th>\n",
       "      <td>0.000000</td>\n",
       "      <td>0.0</td>\n",
       "      <td>0.024124</td>\n",
       "      <td>0.013979</td>\n",
       "      <td>0.0</td>\n",
       "      <td>0.0</td>\n",
       "      <td>0.0</td>\n",
       "      <td>0.0</td>\n",
       "      <td>0.0</td>\n",
       "      <td>0.0</td>\n",
       "      <td>...</td>\n",
       "      <td>0.000000</td>\n",
       "      <td>0.000000</td>\n",
       "      <td>0.013752</td>\n",
       "      <td>0.0</td>\n",
       "      <td>0.0</td>\n",
       "      <td>0.0</td>\n",
       "      <td>0.000000</td>\n",
       "      <td>0.0</td>\n",
       "      <td>0.024124</td>\n",
       "      <td>0.022659</td>\n",
       "    </tr>\n",
       "    <tr>\n",
       "      <th>2</th>\n",
       "      <td>0.000000</td>\n",
       "      <td>0.0</td>\n",
       "      <td>0.000000</td>\n",
       "      <td>0.000000</td>\n",
       "      <td>0.0</td>\n",
       "      <td>0.0</td>\n",
       "      <td>0.0</td>\n",
       "      <td>0.0</td>\n",
       "      <td>0.0</td>\n",
       "      <td>0.0</td>\n",
       "      <td>...</td>\n",
       "      <td>0.000000</td>\n",
       "      <td>0.000000</td>\n",
       "      <td>0.000000</td>\n",
       "      <td>0.0</td>\n",
       "      <td>0.0</td>\n",
       "      <td>0.0</td>\n",
       "      <td>0.000000</td>\n",
       "      <td>0.0</td>\n",
       "      <td>0.000000</td>\n",
       "      <td>0.000000</td>\n",
       "    </tr>\n",
       "    <tr>\n",
       "      <th>3</th>\n",
       "      <td>0.000000</td>\n",
       "      <td>0.0</td>\n",
       "      <td>0.000000</td>\n",
       "      <td>0.016023</td>\n",
       "      <td>0.0</td>\n",
       "      <td>0.0</td>\n",
       "      <td>0.0</td>\n",
       "      <td>0.0</td>\n",
       "      <td>0.0</td>\n",
       "      <td>0.0</td>\n",
       "      <td>...</td>\n",
       "      <td>0.000000</td>\n",
       "      <td>0.000000</td>\n",
       "      <td>0.000000</td>\n",
       "      <td>0.0</td>\n",
       "      <td>0.0</td>\n",
       "      <td>0.0</td>\n",
       "      <td>0.000000</td>\n",
       "      <td>0.0</td>\n",
       "      <td>0.000000</td>\n",
       "      <td>0.000000</td>\n",
       "    </tr>\n",
       "    <tr>\n",
       "      <th>4</th>\n",
       "      <td>0.000000</td>\n",
       "      <td>0.0</td>\n",
       "      <td>0.000000</td>\n",
       "      <td>0.000000</td>\n",
       "      <td>0.0</td>\n",
       "      <td>0.0</td>\n",
       "      <td>0.0</td>\n",
       "      <td>0.0</td>\n",
       "      <td>0.0</td>\n",
       "      <td>0.0</td>\n",
       "      <td>...</td>\n",
       "      <td>0.000000</td>\n",
       "      <td>0.000000</td>\n",
       "      <td>0.000000</td>\n",
       "      <td>0.0</td>\n",
       "      <td>0.0</td>\n",
       "      <td>0.0</td>\n",
       "      <td>0.000000</td>\n",
       "      <td>0.0</td>\n",
       "      <td>0.000000</td>\n",
       "      <td>0.000000</td>\n",
       "    </tr>\n",
       "  </tbody>\n",
       "</table>\n",
       "<p>5 rows × 100000 columns</p>\n",
       "</div>"
      ],
      "text/plain": [
       "         aa  aaaah       aah      aand  aappears  aapproaches  aaron  \\\n",
       "0  0.009769    0.0  0.000000  0.000000       0.0          0.0    0.0   \n",
       "1  0.000000    0.0  0.024124  0.013979       0.0          0.0    0.0   \n",
       "2  0.000000    0.0  0.000000  0.000000       0.0          0.0    0.0   \n",
       "3  0.000000    0.0  0.000000  0.016023       0.0          0.0    0.0   \n",
       "4  0.000000    0.0  0.000000  0.000000       0.0          0.0    0.0   \n",
       "\n",
       "   aaron nod  aat   ab  ...  zombie wheel  zombie window      zone  zoo  \\\n",
       "0        0.0  0.0  0.0  ...      0.018483       0.018483  0.010537  0.0   \n",
       "1        0.0  0.0  0.0  ...      0.000000       0.000000  0.013752  0.0   \n",
       "2        0.0  0.0  0.0  ...      0.000000       0.000000  0.000000  0.0   \n",
       "3        0.0  0.0  0.0  ...      0.000000       0.000000  0.000000  0.0   \n",
       "4        0.0  0.0  0.0  ...      0.000000       0.000000  0.000000  0.0   \n",
       "\n",
       "   zoo dr  zoo thing      zoom  zoom face        ½g        ½ï  \n",
       "0     0.0        0.0  0.011082        0.0  0.000000  0.000000  \n",
       "1     0.0        0.0  0.000000        0.0  0.024124  0.022659  \n",
       "2     0.0        0.0  0.000000        0.0  0.000000  0.000000  \n",
       "3     0.0        0.0  0.000000        0.0  0.000000  0.000000  \n",
       "4     0.0        0.0  0.000000        0.0  0.000000  0.000000  \n",
       "\n",
       "[5 rows x 100000 columns]"
      ]
     },
     "execution_count": 379,
     "metadata": {},
     "output_type": "execute_result"
    }
   ],
   "source": [
    "tfidf_nouns_df.head()"
   ]
  },
  {
   "cell_type": "markdown",
   "metadata": {},
   "source": [
    "### Preparing TFIDF for LDAviz"
   ]
  },
  {
   "cell_type": "code",
   "execution_count": 375,
   "metadata": {},
   "outputs": [],
   "source": [
    "# Pickling tfidf2\n",
    "\n",
    "filename = 'tfidf2'\n",
    "outfile = open(filename,'wb')\n",
    "pickle.dump(tfidf2,outfile)\n",
    "outfile.close()\n",
    "\n",
    "\n"
   ]
  },
  {
   "cell_type": "code",
   "execution_count": 376,
   "metadata": {},
   "outputs": [],
   "source": [
    "# Pickling text_tfidf2; 3rd arg\n",
    "\n",
    "filename = 'text_tfidf2'\n",
    "outfile = open(filename,'wb')\n",
    "pickle.dump(text_tfidf2,outfile)\n",
    "outfile.close()\n",
    "\n",
    "filename = 'tfidf2_df'\n",
    "outfile = open(filename,'wb')\n",
    "pickle.dump(tfidf2_df,outfile)\n",
    "outfile.close()"
   ]
  },
  {
   "cell_type": "code",
   "execution_count": 394,
   "metadata": {},
   "outputs": [],
   "source": [
    "# Pickling tfidf noun\n",
    "\n",
    "filename = 'tfidf_nouns_array'\n",
    "outfile = open(filename,'wb')\n",
    "pickle.dump(tfidf_nouns_array,outfile)\n",
    "outfile.close()\n",
    "\n",
    "\n",
    "filename = 'tfidf_nouns_df'\n",
    "outfile = open(filename,'wb')\n",
    "pickle.dump(tfidf_nouns_df,outfile)\n",
    "outfile.close()\n"
   ]
  },
  {
   "cell_type": "code",
   "execution_count": null,
   "metadata": {},
   "outputs": [],
   "source": []
  }
 ],
 "metadata": {
  "kernelspec": {
   "display_name": "Python [conda env:metis] *",
   "language": "python",
   "name": "conda-env-metis-py"
  },
  "language_info": {
   "codemirror_mode": {
    "name": "ipython",
    "version": 3
   },
   "file_extension": ".py",
   "mimetype": "text/x-python",
   "name": "python",
   "nbconvert_exporter": "python",
   "pygments_lexer": "ipython3",
   "version": "3.8.5"
  }
 },
 "nbformat": 4,
 "nbformat_minor": 4
}
